{
 "cells": [
  {
   "cell_type": "markdown",
   "id": "a94933e6-bc1b-42f5-aa95-58d6ed80ccbe",
   "metadata": {},
   "source": [
    "## Rappel Python"
   ]
  },
  {
   "cell_type": "markdown",
   "id": "f109fabb-13aa-4daa-b3e2-8099aab74b14",
   "metadata": {},
   "source": [
    "#### Reminders for experimented python users"
   ]
  },
  {
   "cell_type": "code",
   "execution_count": null,
   "id": "b0c6298c-9c1b-45b3-86a2-e280171001df",
   "metadata": {},
   "outputs": [],
   "source": [
    "# Creation de fonctions mathematiques avec lambda:\n",
    "f1 = lambda x: x**2 \n",
    "f2 = lambda x,y: x + 2*y\n",
    "\n",
    "print(\"f1(5) = \", f1(5))\n",
    "print(\"f2(1,2) = \", f2(1,2))"
   ]
  },
  {
   "cell_type": "code",
   "execution_count": 21,
   "id": "618a38f6-75ab-43a9-a26d-b4ed7aacf8f5",
   "metadata": {},
   "outputs": [],
   "source": [
    "# Suite de fibonnaci:\n",
    "def fibo(n):\n",
    "    i = 2\n",
    "    f = [0, 1]\n",
    "    while 2 <= i <= n:\n",
    "        fi = f[i-1] + f[i-2]\n",
    "        f.append(fi)\n",
    "        i = i+1\n",
    "    return f[n]\n",
    "\n",
    "#fibo(16)"
   ]
  },
  {
   "cell_type": "code",
   "execution_count": null,
   "id": "0305b8ec-514b-4457-8262-124a03cf247f",
   "metadata": {},
   "outputs": [],
   "source": [
    "# On rappele que le slicing se fait par pas aussi:\n",
    "list1 = [i for i in range(10)]\n",
    "print(list1)\n",
    "list_pair_slice = list1[0::2]\n",
    "list_pair_slice"
   ]
  },
  {
   "cell_type": "code",
   "execution_count": null,
   "id": "bd01cec1-1a1e-4d65-896a-666a4576fa6e",
   "metadata": {},
   "outputs": [],
   "source": [
    "# Quelques methodes sur des listes:\n",
    "# list1.append(element) # Ajouter un element a la fin de list1\n",
    "# list1.insert(indice, element) # Ajouter un \"element\" a list1 a l'indice \"indice\"\n",
    "# list1.extend(list2) # etendre la list1 par une list2\n",
    "# list1.sort() ==> Ordre alphanumerique\n",
    "# list1.sort(reverse=True) ==> l'inverse de l'ordre alphanum\n",
    "# list1.count(element) # Comptage du nombre d'occurences de l'element\n",
    "# list1.remove(element) # remove element from list"
   ]
  },
  {
   "cell_type": "code",
   "execution_count": 28,
   "id": "643b94bf-47a9-4c08-b0bb-6896dc5254e5",
   "metadata": {},
   "outputs": [],
   "source": [
    "# Iterer sur des listes:\n",
    "    # extraire les elements et leurs indices:\n",
    "    # for indice, element in enumerate(liste1):\n",
    "    #     print(indice, element)\n",
    "\n",
    "# Iterer sur deux listes en parallele:\n",
    "    # for l1, l2 in zip(liste1, liste2):\n",
    "    #     print(l1, l2) # Elle s'arrete quand la liste la plus courte s'arrete"
   ]
  },
  {
   "cell_type": "code",
   "execution_count": null,
   "id": "4a097ea9-9f9b-4ad1-9e34-adfe572d8a21",
   "metadata": {},
   "outputs": [],
   "source": [
    "## Rappel sur les dicos:\n",
    "# dico.keys(): Les cles du dictionnaire\n",
    "# dico.values(): Les valeurs de celui-ci\n",
    "# dico.get(\"element\") [Plus pratique: dico.get(\"element\", defaut)]: Chercher un element dans le dictionnaire [si on \n",
    "# ne passe pas une valeur par defaut et que l'element n'est pas present, nous allons retourner une erreur ce qui n'est pas bien]\n",
    "\n",
    "# Creer un dictionnaire a partir d'une liste:\n",
    "inventaire = {}\n",
    "liste1 = [\"A\", \"B\"]\n",
    "inventaire = inventaire.fromkeys(liste1)\n",
    "print(inventaire)\n",
    "\n",
    "# Faire la meme chose avec une valeur d'initialisation:\n",
    "inventaire = inventaire.fromkeys(liste1, 1)\n",
    "print(inventaire)\n",
    "\n",
    "# Affichier la valeur associe a la cle, puis retirer une paire (\"cle\":\"valeur\")\n",
    "pair = inventaire.pop(\"A\")\n",
    "print(pair)\n",
    "print(inventaire)\n",
    "\n",
    "# Extended list comprehension: Three main blocks:\n",
    "# GENERAL SYNTAX\n",
    "# *** DO THIS **** for this collection **** if this condition is true *****\n",
    "# Exemple: Inclure les chiffres qui sont des multiples de 3 dans une liste avec la liste comprehension:\n",
    "liste1 = [i for i in range(100) if i % 3 == 0]\n",
    "print(liste1)"
   ]
  },
  {
   "cell_type": "code",
   "execution_count": null,
   "id": "51bd9719-bb9d-4687-b097-bc6096102df1",
   "metadata": {},
   "outputs": [],
   "source": [
    "inventaire = inventaire.fromkeys(liste1, 1)\n",
    "print(inventaire)\n",
    "\n",
    "# On peut iterer sur le cles a travers dico.keys()\n",
    "for key in inventaire.keys():\n",
    "    print(key)\n",
    "# On peut iterer sur le valeurs a travers dico.values()\n",
    "for value in inventaire.values():\n",
    "    print(value)\n",
    "    \n",
    "# On peut iterer sur le pairs (cle, valeur) a travers dico.items()\n",
    "for key, value in inventaire.items():\n",
    "    item = key, value\n",
    "    print(item)\n",
    "    \n",
    "# Dictionnary comprehension:\n",
    "values = [\"A\", \"B\", \"C\", \"D\"]\n",
    "dict1 = {key:value for key, value in enumerate(values)}\n",
    "print(dict1)\n",
    "\n",
    "# Extended Dictionnary comprehension:\n",
    "dict1 = {k:v for k,v in enumerate(range(100)) if v % 5 == 0}\n",
    "print(dict1)"
   ]
  },
  {
   "cell_type": "code",
   "execution_count": null,
   "id": "7b1e1d0f-f0f3-4f16-be86-5a0cd318828e",
   "metadata": {},
   "outputs": [],
   "source": [
    "# Tuple comprehension: Generateurs:\n",
    "# Dans les tuples, le tuple comprehension donne un generateur:\n",
    "tpl1 = (i for i in range(10))\n",
    "print(tpl1)\n",
    "tpl1 = tuple(tpl1)\n",
    "print(tpl1)"
   ]
  },
  {
   "cell_type": "code",
   "execution_count": 2,
   "id": "5c05da2e-c933-4081-8675-fe2a0fd581b0",
   "metadata": {},
   "outputs": [
    {
     "name": "stdout",
     "output_type": "stream",
     "text": [
      "<class 'int'>\n"
     ]
    }
   ],
   "source": [
    "## Quelques fonctions basiques sur les listes:\n",
    "# max(list), min(list), mean(list), sum(list), abs(list), round(list) etc.... --> C'est clair \n",
    "# any(list) -> REND TRUE Si au moins un element est non False (ou non nul)\n",
    "# all(list) -> Rend True si tout les elements sont True (ou non nuls)\n",
    "\n",
    "# Changement de types ! TRES IMPORTANT EN DATASCIENCE\n",
    "x = 10\n",
    "type(x) # Type de la variable \"x\"\n",
    "\n",
    "x = str(x) # Changer en chaine de caracteres\n",
    "type(x)\n",
    "\n",
    "# Operation inverse\n",
    "y = \"20\"\n",
    "y = int(y)\n",
    "print(type(y))"
   ]
  },
  {
   "cell_type": "code",
   "execution_count": 6,
   "id": "6bb808d8-5e16-4b57-8149-8565a35c8456",
   "metadata": {},
   "outputs": [
    {
     "name": "stdout",
     "output_type": "stream",
     "text": [
      "Binaire =  0b1001010011\n",
      "Hexa =  0x253\n",
      "Octa =  0o1123\n"
     ]
    }
   ],
   "source": [
    "# Conversion binairem hexa etc...\n",
    "x = 595\n",
    "\n",
    "# En binaire:\n",
    "print(\"Binaire = \", bin(x))\n",
    "\n",
    "# En hexadecimal:\n",
    "print(\"Hexa = \", hex(x))\n",
    "\n",
    "# En octa:\n",
    "print(\"Octa = \", oct(x))\n",
    "\n",
    "# ETC...."
   ]
  },
  {
   "cell_type": "code",
   "execution_count": 16,
   "id": "cce453a8-5a3e-47ce-ac96-c852a52a2554",
   "metadata": {},
   "outputs": [],
   "source": [
    "# La fonction \"open\":\n",
    "f = open(\"fichier.txt\", \"w\")\n",
    "f.write(\"N'importe quoi\")\n",
    "f.close()"
   ]
  },
  {
   "cell_type": "code",
   "execution_count": 17,
   "id": "6121c823-f5c9-45b8-8d8c-e1dcb21fc6c6",
   "metadata": {},
   "outputs": [
    {
     "data": {
      "text/plain": [
       "\"N'importe quoi\""
      ]
     },
     "execution_count": 17,
     "metadata": {},
     "output_type": "execute_result"
    }
   ],
   "source": [
    "# La fonction \"open\":\n",
    "f = open(\"fichier.txt\", \"r\")\n",
    "f.read()"
   ]
  },
  {
   "cell_type": "code",
   "execution_count": 18,
   "id": "a2290fde-f204-4c1d-b249-1f45845ce440",
   "metadata": {},
   "outputs": [],
   "source": [
    "# On peut aussi ecrire en fin de fichier avec l'argument mode \"a\"\n",
    "# --> \"w\" pour write (Overwrites)\n",
    "# --> \"a\" pour ecrire a la fin du fichier \"no overwrite\""
   ]
  },
  {
   "cell_type": "code",
   "execution_count": 21,
   "id": "968dc51a-d434-4ef7-a3df-687faa0ecec5",
   "metadata": {},
   "outputs": [],
   "source": [
    "# Plus pratique que ca:\n",
    "with open(\"fichier.txt\", \"a\") as f:\n",
    "    f.write(\"N'importe quoi\")\n",
    "# Pas besoin de faire un \"close\" explicite "
   ]
  },
  {
   "cell_type": "code",
   "execution_count": 24,
   "id": "64ba8f7c-f1a5-4e9c-a0e5-334a03ab44c9",
   "metadata": {},
   "outputs": [
    {
     "name": "stdout",
     "output_type": "stream",
     "text": [
      "N'importe quoiN'importe quoi\n"
     ]
    }
   ],
   "source": [
    "# Plus pratique que ca:\n",
    "with open(\"fichier.txt\", \"r\") as f:\n",
    "    print(f.read())\n",
    "# Pas besoin de faire un \"close\" explicite "
   ]
  },
  {
   "cell_type": "markdown",
   "id": "e5d865fa-9e9f-413b-b307-1fbafac8bd4b",
   "metadata": {},
   "source": [
    "## MODULES IMPORTANTS EN DATA SCIENCE"
   ]
  },
  {
   "cell_type": "code",
   "execution_count": 25,
   "id": "bfdd18e9-e347-40b3-b98e-05e9ca0575d3",
   "metadata": {},
   "outputs": [],
   "source": [
    "import math # pour les ops maths\n",
    "import statistics # Pour faire des stats\n",
    "import random # Pour les operations aleatoires"
   ]
  },
  {
   "cell_type": "code",
   "execution_count": 48,
   "id": "9876444c-2818-42f6-bd4a-120dd6f680f3",
   "metadata": {},
   "outputs": [
    {
     "name": "stdout",
     "output_type": "stream",
     "text": [
      "16\n"
     ]
    }
   ],
   "source": [
    "# Exemples:\n",
    "# Choix aleatoires:\n",
    "liste1 = [i**2 for i in range(10)]\n",
    "x = random.choice(liste1)\n",
    "print(x)"
   ]
  },
  {
   "cell_type": "code",
   "execution_count": 56,
   "id": "4011641d-33a6-4298-bd2a-8b3120493b74",
   "metadata": {},
   "outputs": [
    {
     "name": "stdout",
     "output_type": "stream",
     "text": [
      "4\n"
     ]
    }
   ],
   "source": [
    "# En data science nous avons interet parfois a reproduire un resultat par exemple avec\n",
    "# une meme donnee alearoire avanr de passer a une autre. random.seed() fixe le resultat aleatoire:\n",
    "\n",
    "random.seed(1)\n",
    "x = random.choice(liste1)\n",
    "print(x)"
   ]
  },
  {
   "cell_type": "code",
   "execution_count": 74,
   "id": "033ee404-f548-48aa-85da-20d0ba9471aa",
   "metadata": {},
   "outputs": [
    {
     "name": "stdout",
     "output_type": "stream",
     "text": [
      "8\n",
      "7\n",
      "0.4811018174142402\n",
      "100\n",
      "[6.782329983125268, 8.48528137423857, 8.366600265340756, 5.0, 8.0, 7.211102550927978, 7.874007874011811, 6.708203932499369, 7.280109889280518, 6.6332495807108]\n",
      "[7.874007874011811, 6.708203932499369, 8.366600265340756, 8.48528137423857, 6.6332495807108, 8.0, 5.0, 7.211102550927978, 7.280109889280518, 6.782329983125268]\n"
     ]
    }
   ],
   "source": [
    "# Generer des nombres aleatoires:\n",
    "z = random.randint(5, 10) # entier aleatoire entre 5 et 10\n",
    "print(z)\n",
    "\n",
    "z = random.randrange(100) # retourner un integer dans un range(100)\n",
    "print(z)\n",
    "\n",
    "z = random.random() # flottant aleatoire de la distribution norrmale (entre 0 et 1)\n",
    "print(z)\n",
    "\n",
    "# Faire du sampling\n",
    "# Retourner une liste de \"k\" elements dont chacun est pris d'une population que l'on fourni:\n",
    "# Exemple:\n",
    "liste1 = [i**(1/2) for i in range(0, 100)]\n",
    "print(len(liste1))\n",
    "\n",
    "sample = random.sample(liste1, 10)\n",
    "print(sample)\n",
    "\n",
    "# Melanger aleatoirement une liste de donnees:\n",
    "random.shuffle(sample)\n",
    "print(sample)"
   ]
  },
  {
   "cell_type": "markdown",
   "id": "c620160e-44c3-4e58-825e-defd2abd4355",
   "metadata": {},
   "source": [
    "# Le module os et glob"
   ]
  },
  {
   "cell_type": "code",
   "execution_count": 83,
   "id": "74c241de-cc92-4f27-a390-6ff2dd38c8b0",
   "metadata": {},
   "outputs": [
    {
     "data": {
      "text/plain": [
       "['/home/mouloud/miniconda3/git/Machine-learning/Rappel_python.ipynb',\n",
       " '/home/mouloud/miniconda3/git/Machine-learning/README.md',\n",
       " '/home/mouloud/miniconda3/git/Machine-learning/fichier.txt']"
      ]
     },
     "execution_count": 83,
     "metadata": {},
     "output_type": "execute_result"
    }
   ],
   "source": [
    "import os, glob\n",
    "# print current working directory\n",
    "path = os.getcwd()\n",
    "\n",
    "# retourne en liste tout les fichiers contenus dans le repertoire donnee:\n",
    "liste_path = glob.glob(path + \"/*\")\n",
    "liste_path"
   ]
  },
  {
   "cell_type": "code",
   "execution_count": null,
   "id": "9a769edf-66a5-40a0-b627-eb40cd821299",
   "metadata": {},
   "outputs": [],
   "source": []
  },
  {
   "cell_type": "code",
   "execution_count": null,
   "id": "c839beae-0fbf-4a02-a219-5aa168019a29",
   "metadata": {},
   "outputs": [],
   "source": []
  },
  {
   "cell_type": "code",
   "execution_count": null,
   "id": "cdb2db4a-a10b-491b-8933-4d104c914ca2",
   "metadata": {},
   "outputs": [],
   "source": []
  }
 ],
 "metadata": {
  "kernelspec": {
   "display_name": "Python 3",
   "language": "python",
   "name": "python3"
  },
  "language_info": {
   "codemirror_mode": {
    "name": "ipython",
    "version": 3
   },
   "file_extension": ".py",
   "mimetype": "text/x-python",
   "name": "python",
   "nbconvert_exporter": "python",
   "pygments_lexer": "ipython3",
   "version": "3.9.4"
  }
 },
 "nbformat": 4,
 "nbformat_minor": 5
}
