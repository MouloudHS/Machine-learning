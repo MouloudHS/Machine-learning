{
 "cells": [
  {
   "cell_type": "markdown",
   "id": "a94933e6-bc1b-42f5-aa95-58d6ed80ccbe",
   "metadata": {},
   "source": [
    "## Machine learning with Python"
   ]
  },
  {
   "cell_type": "markdown",
   "id": "f109fabb-13aa-4daa-b3e2-8099aab74b14",
   "metadata": {},
   "source": [
    "#### Reminders for experimented python users"
   ]
  },
  {
   "cell_type": "code",
   "execution_count": 4,
   "id": "b0c6298c-9c1b-45b3-86a2-e280171001df",
   "metadata": {},
   "outputs": [
    {
     "name": "stdout",
     "output_type": "stream",
     "text": [
      "f1(5) =  25\n",
      "f2(1,2) =  5\n"
     ]
    }
   ],
   "source": [
    "# Creation de fonctions mathematiques avec lambda:\n",
    "f1 = lambda x: x**2 \n",
    "f2 = lambda x,y: x + 2*y\n",
    "\n",
    "print(\"f1(5) = \", f1(5))\n",
    "print(\"f2(1,2) = \", f2(1,2))"
   ]
  },
  {
   "cell_type": "code",
   "execution_count": 21,
   "id": "618a38f6-75ab-43a9-a26d-b4ed7aacf8f5",
   "metadata": {},
   "outputs": [],
   "source": [
    "# Suite de fibonnaci:\n",
    "def fibo(n):\n",
    "    i = 2\n",
    "    f = [0, 1]\n",
    "    while 2 <= i <= n:\n",
    "        fi = f[i-1] + f[i-2]\n",
    "        f.append(fi)\n",
    "        i = i+1\n",
    "    return f[n]\n",
    "\n",
    "#fibo(16)"
   ]
  },
  {
   "cell_type": "code",
   "execution_count": 27,
   "id": "0305b8ec-514b-4457-8262-124a03cf247f",
   "metadata": {},
   "outputs": [
    {
     "name": "stdout",
     "output_type": "stream",
     "text": [
      "[0, 1, 2, 3, 4, 5, 6, 7, 8, 9]\n"
     ]
    },
    {
     "data": {
      "text/plain": [
       "[0, 2, 4, 6, 8]"
      ]
     },
     "execution_count": 27,
     "metadata": {},
     "output_type": "execute_result"
    }
   ],
   "source": [
    "# On rappele que le slicing se fait par pas aussi:\n",
    "list1 = [i for i in range(10)]\n",
    "print(list1)\n",
    "list_pair_slice = list1[0::2]\n",
    "list_pair_slice"
   ]
  },
  {
   "cell_type": "code",
   "execution_count": 26,
   "id": "bd01cec1-1a1e-4d65-896a-666a4576fa6e",
   "metadata": {},
   "outputs": [
    {
     "data": {
      "text/plain": [
       "[0, 2, 4, 6, 8]"
      ]
     },
     "execution_count": 26,
     "metadata": {},
     "output_type": "execute_result"
    }
   ],
   "source": [
    "# Quelques methodes sur des listes:\n",
    "# list1.append(element) # Ajouter un element a la fin de list1\n",
    "# list1.insert(indice, element) # Ajouter un \"element\" a list1 a l'indice \"indice\"\n",
    "# list1.extend(list2) # etendre la list1 par une list2\n",
    "# list1.sort() ==> Ordre alphanumerique\n",
    "# list1.sort(reverse=True) ==> l'inverse de l'ordre alphanum\n",
    "# list1.count(element) # Comptage du nombre d'occurences de l'element\n",
    "# list1.remove(element) # remove element from list"
   ]
  },
  {
   "cell_type": "code",
   "execution_count": 28,
   "id": "643b94bf-47a9-4c08-b0bb-6896dc5254e5",
   "metadata": {},
   "outputs": [],
   "source": [
    "# Iterer sur des listes:\n",
    "    # extraire les elements et leurs indices:\n",
    "    # for indice, element in enumerate(liste1):\n",
    "    #     print(indice, element)\n",
    "\n",
    "# Iterer sur deux listes en parallele:\n",
    "    # for l1, l2 in zip(liste1, liste2):\n",
    "    #     print(l1, l2) # Elle s'arrete quand la liste la plus courte s'arrete"
   ]
  },
  {
   "cell_type": "code",
   "execution_count": 49,
   "id": "4a097ea9-9f9b-4ad1-9e34-adfe572d8a21",
   "metadata": {},
   "outputs": [
    {
     "name": "stdout",
     "output_type": "stream",
     "text": [
      "{'A': None, 'B': None}\n",
      "{'A': 1, 'B': 1}\n",
      "1\n",
      "{'B': 1}\n",
      "[0, 3, 6, 9, 12, 15, 18, 21, 24, 27, 30, 33, 36, 39, 42, 45, 48, 51, 54, 57, 60, 63, 66, 69, 72, 75, 78, 81, 84, 87, 90, 93, 96, 99]\n"
     ]
    }
   ],
   "source": [
    "## Rappel sur les dicos:\n",
    "# dico.keys(): Les cles du dictionnaire\n",
    "# dico.values(): Les valeurs de celui-ci\n",
    "# dico.get(\"element\") [Plus pratique: dico.get(\"element\", defaut)]: Chercher un element dans le dictionnaire [si on \n",
    "# ne passe pas une valeur par defaut et que l'element n'est pas present, nous allons retourner une erreur ce qui n'est pas bien]\n",
    "\n",
    "# Creer un dictionnaire a partir d'une liste:\n",
    "inventaire = {}\n",
    "liste1 = [\"A\", \"B\"]\n",
    "inventaire = inventaire.fromkeys(liste1)\n",
    "print(inventaire)\n",
    "\n",
    "# Faire la meme chose avec une valeur d'initialisation:\n",
    "inventaire = inventaire.fromkeys(liste1, 1)\n",
    "print(inventaire)\n",
    "\n",
    "# Affichier la valeur associe a la cle, puis retirer une paire (\"cle\":\"valeur\")\n",
    "pair = inventaire.pop(\"A\")\n",
    "print(pair)\n",
    "print(inventaire)\n",
    "\n",
    "# Extended list comprehension: Three main blocks:\n",
    "# GENERAL SYNTAX\n",
    "# *** DO THIS **** for this collection **** if this condition is true *****\n",
    "# Exemple: Inclure les chiffres qui sont des multiples de 3 dans une liste avec la liste comprehension:\n",
    "liste1 = [i for i in range(100) if i % 3 == 0]\n",
    "print(liste1)"
   ]
  },
  {
   "cell_type": "code",
   "execution_count": 51,
   "id": "51bd9719-bb9d-4687-b097-bc6096102df1",
   "metadata": {},
   "outputs": [
    {
     "name": "stdout",
     "output_type": "stream",
     "text": [
      "{0: 1, 3: 1, 6: 1, 9: 1, 12: 1, 15: 1, 18: 1, 21: 1, 24: 1, 27: 1, 30: 1, 33: 1, 36: 1, 39: 1, 42: 1, 45: 1, 48: 1, 51: 1, 54: 1, 57: 1, 60: 1, 63: 1, 66: 1, 69: 1, 72: 1, 75: 1, 78: 1, 81: 1, 84: 1, 87: 1, 90: 1, 93: 1, 96: 1, 99: 1}\n",
      "0\n",
      "3\n",
      "6\n",
      "9\n",
      "12\n",
      "15\n",
      "18\n",
      "21\n",
      "24\n",
      "27\n",
      "30\n",
      "33\n",
      "36\n",
      "39\n",
      "42\n",
      "45\n",
      "48\n",
      "51\n",
      "54\n",
      "57\n",
      "60\n",
      "63\n",
      "66\n",
      "69\n",
      "72\n",
      "75\n",
      "78\n",
      "81\n",
      "84\n",
      "87\n",
      "90\n",
      "93\n",
      "96\n",
      "99\n",
      "1\n",
      "1\n",
      "1\n",
      "1\n",
      "1\n",
      "1\n",
      "1\n",
      "1\n",
      "1\n",
      "1\n",
      "1\n",
      "1\n",
      "1\n",
      "1\n",
      "1\n",
      "1\n",
      "1\n",
      "1\n",
      "1\n",
      "1\n",
      "1\n",
      "1\n",
      "1\n",
      "1\n",
      "1\n",
      "1\n",
      "1\n",
      "1\n",
      "1\n",
      "1\n",
      "1\n",
      "1\n",
      "1\n",
      "1\n",
      "(0, 1)\n",
      "(3, 1)\n",
      "(6, 1)\n",
      "(9, 1)\n",
      "(12, 1)\n",
      "(15, 1)\n",
      "(18, 1)\n",
      "(21, 1)\n",
      "(24, 1)\n",
      "(27, 1)\n",
      "(30, 1)\n",
      "(33, 1)\n",
      "(36, 1)\n",
      "(39, 1)\n",
      "(42, 1)\n",
      "(45, 1)\n",
      "(48, 1)\n",
      "(51, 1)\n",
      "(54, 1)\n",
      "(57, 1)\n",
      "(60, 1)\n",
      "(63, 1)\n",
      "(66, 1)\n",
      "(69, 1)\n",
      "(72, 1)\n",
      "(75, 1)\n",
      "(78, 1)\n",
      "(81, 1)\n",
      "(84, 1)\n",
      "(87, 1)\n",
      "(90, 1)\n",
      "(93, 1)\n",
      "(96, 1)\n",
      "(99, 1)\n",
      "{0: 'A', 1: 'B', 2: 'C', 3: 'D'}\n",
      "{0: 0, 5: 5, 10: 10, 15: 15, 20: 20, 25: 25, 30: 30, 35: 35, 40: 40, 45: 45, 50: 50, 55: 55, 60: 60, 65: 65, 70: 70, 75: 75, 80: 80, 85: 85, 90: 90, 95: 95}\n"
     ]
    }
   ],
   "source": [
    "inventaire = inventaire.fromkeys(liste1, 1)\n",
    "print(inventaire)\n",
    "\n",
    "# On peut iterer sur le cles a travers dico.keys()\n",
    "for key in inventaire.keys():\n",
    "    print(key)\n",
    "# On peut iterer sur le valeurs a travers dico.values()\n",
    "for value in inventaire.values():\n",
    "    print(value)\n",
    "    \n",
    "# On peut iterer sur le pairs (cle, valeur) a travers dico.items()\n",
    "for key, value in inventaire.items():\n",
    "    item = key, value\n",
    "    print(item)\n",
    "    \n",
    "# Dictionnary comprehension:\n",
    "values = [\"A\", \"B\", \"C\", \"D\"]\n",
    "dict1 = {key:value for key, value in enumerate(values)}\n",
    "print(dict1)\n",
    "\n",
    "# Extended Dictionnary comprehension:\n",
    "dict1 = {k:v for k,v in enumerate(range(100)) if v % 5 == 0}\n",
    "print(dict1)"
   ]
  },
  {
   "cell_type": "code",
   "execution_count": 54,
   "id": "7b1e1d0f-f0f3-4f16-be86-5a0cd318828e",
   "metadata": {},
   "outputs": [
    {
     "name": "stdout",
     "output_type": "stream",
     "text": [
      "<generator object <genexpr> at 0x7f70001c8eb0>\n",
      "(0, 1, 2, 3, 4, 5, 6, 7, 8, 9)\n"
     ]
    }
   ],
   "source": [
    "# Tuple comprehension: Generateurs:\n",
    "# Dans les tuples, le tuple comprehension donne un generateur:\n",
    "tpl1 = (i for i in range(10))\n",
    "print(tpl1)\n",
    "tpl1 = tuple(tpl1)\n",
    "print(tpl1)"
   ]
  },
  {
   "cell_type": "code",
   "execution_count": null,
   "id": "5c05da2e-c933-4081-8675-fe2a0fd581b0",
   "metadata": {},
   "outputs": [],
   "source": []
  }
 ],
 "metadata": {
  "kernelspec": {
   "display_name": "Python 3",
   "language": "python",
   "name": "python3"
  },
  "language_info": {
   "codemirror_mode": {
    "name": "ipython",
    "version": 3
   },
   "file_extension": ".py",
   "mimetype": "text/x-python",
   "name": "python",
   "nbconvert_exporter": "python",
   "pygments_lexer": "ipython3",
   "version": "3.9.4"
  }
 },
 "nbformat": 4,
 "nbformat_minor": 5
}
